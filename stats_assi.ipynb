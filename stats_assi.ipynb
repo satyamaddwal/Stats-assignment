{
 "cells": [
  {
   "cell_type": "code",
   "execution_count": 18,
   "id": "b8692d7b-6c8c-468c-a75f-45b6a48cb2e1",
   "metadata": {},
   "outputs": [],
   "source": [
    "import numpy as np\n",
    "import pandas as pd\n",
    "import statistics\n",
    "import math\n",
    "import matplotlib.pyplot as plt\n",
    "import seaborn as sns\n",
    "from scipy.stats import norm"
   ]
  },
  {
   "cell_type": "code",
   "execution_count": 4,
   "id": "5b44d8d0-bd3e-4522-8740-a81bf2a2a7ca",
   "metadata": {},
   "outputs": [
    {
     "data": {
      "text/plain": [
       "array([107, 111, 129,  90, 102, 102, 109, 117, 100, 122,  99, 117, 104,\n",
       "       109,  92, 125,  92, 113, 104, 116,  95, 125, 104, 111, 100,  90,\n",
       "       104,  92, 105, 106, 129, 129,  98, 119, 101,  95, 101,  94, 126,\n",
       "       106, 129, 120, 102, 124, 102, 104,  98, 128, 120,  91, 103, 127,\n",
       "       100, 105,  97, 103, 117, 104,  97, 120,  93, 124,  93, 104, 102,\n",
       "       115,  90, 122, 105, 103, 110, 109, 119, 124, 101, 116, 115, 110,\n",
       "       101, 111, 120, 111,  93,  96, 118, 116, 121, 115, 114, 129, 129,\n",
       "       127, 103, 114, 120, 123, 107, 124,  91,  96])"
      ]
     },
     "execution_count": 4,
     "metadata": {},
     "output_type": "execute_result"
    }
   ],
   "source": [
    "\"\"\" Q1 Generate a list of 100 integers containing values between 90 to 130 and store it in the variable `int_list`. After generating the list, find the following:\"\"\"\n",
    "int_list = np.random.randint(90,130,100)\n",
    "int_list"
   ]
  },
  {
   "cell_type": "code",
   "execution_count": 6,
   "id": "02a00794-adc7-4a42-91ac-ef503498e222",
   "metadata": {},
   "outputs": [
    {
     "name": "stdout",
     "output_type": "stream",
     "text": [
      "109.15\n",
      "107.0\n"
     ]
    }
   ],
   "source": [
    "\"\"\"(i)  Write a Python function to calculate the mean of a given list of numbers. Create a function to find the median of a list of numbers.\"\"\"\n",
    "\n",
    "def fun_mean(x):\n",
    "    return np.mean(x)\n",
    "\n",
    "def fun_median(x):\n",
    "    return np.median(x)\n",
    "\n",
    "print(fun_mean(int_list))\n",
    "print(fun_median(int_list))"
   ]
  },
  {
   "cell_type": "code",
   "execution_count": 7,
   "id": "96612422-a7ad-43f4-8603-400f40cdaf2e",
   "metadata": {},
   "outputs": [
    {
     "data": {
      "text/plain": [
       "104"
      ]
     },
     "execution_count": 7,
     "metadata": {},
     "output_type": "execute_result"
    }
   ],
   "source": [
    "\"\"\" (ii) Develop a program to compute the mode of a list of integers.\"\"\"\n",
    "\n",
    "def fun_mode(x):\n",
    "    return(statistics.mode(x))\n",
    "\n",
    "fun_mode(int_list)"
   ]
  },
  {
   "cell_type": "code",
   "execution_count": 29,
   "id": "3f9c5bf0-4f78-41be-9a11-0a499fd933d8",
   "metadata": {},
   "outputs": [
    {
     "data": {
      "text/plain": [
       "110.13445544554456"
      ]
     },
     "execution_count": 29,
     "metadata": {},
     "output_type": "execute_result"
    }
   ],
   "source": [
    "\"\"\"(iii) Implement a function to calculate the weighted mean of a list of values and their corresponding weights.\"\"\"\n",
    "\n",
    "weight = [i for i in range(1,101)]\n",
    "def weighted_mean(x,y):\n",
    "    if len(x) == len(y):\n",
    "        w_sum = sum(j*k for j, k in zip(x,y))\n",
    "        answer = w_sum / sum(y)\n",
    "    else:\n",
    "        print(\"Check the lenghts again!!\")\n",
    "    return answer\n",
    "            \n",
    "weighted_mean(int_list, weight)"
   ]
  },
  {
   "cell_type": "code",
   "execution_count": 36,
   "id": "7028b31b-2d2f-4f27-b116-47cddbc207a1",
   "metadata": {},
   "outputs": [
    {
     "data": {
      "text/plain": [
       "[107]"
      ]
     },
     "execution_count": 36,
     "metadata": {},
     "output_type": "execute_result"
    }
   ],
   "source": [
    "\"\"\"(iv) Write a Python function to find the geometric mean of a list of positive numbers.\"\"\"\n",
    "\n",
    "def geo_mean(x):\n",
    "    k =[]\n",
    "    for i in x:\n",
    "        if i >0:\n",
    "            k.append(i)\n",
    "            return(k)\n",
    "    geo_prod = math.prod(k)\n",
    "    power = 1/len(k)\n",
    "    return(geo_prod**power)\n",
    "geo_mean(int_list)"
   ]
  },
  {
   "cell_type": "code",
   "execution_count": 43,
   "id": "3c1b481c-9c49-49ca-a093-720bc0f41d49",
   "metadata": {},
   "outputs": [
    {
     "data": {
      "text/plain": [
       "107.9384166957417"
      ]
     },
     "execution_count": 43,
     "metadata": {},
     "output_type": "execute_result"
    }
   ],
   "source": [
    "\"\"\" (v) Create a program to calculate the harmonic mean of a list of values.\"\"\"\n",
    "\n",
    "def har_mean(x):\n",
    "    rep_sum = sum(1/i for i in x)\n",
    "    n = len(x)\n",
    "    return n/rep_sum\n",
    "\n",
    "har_mean(int_list)"
   ]
  },
  {
   "cell_type": "code",
   "execution_count": 45,
   "id": "717abe37-2791-4f8f-9f78-63d9959592d7",
   "metadata": {},
   "outputs": [
    {
     "data": {
      "text/plain": [
       "109.5"
      ]
     },
     "execution_count": 45,
     "metadata": {},
     "output_type": "execute_result"
    }
   ],
   "source": [
    "\"\"\" (vi) Build a function to determine the midrange of a list of numbers (average of the minimum and maximum).\"\"\"\n",
    "\n",
    "mid_range = (max(int_list) + min(int_list))/2\n",
    "mid_range"
   ]
  },
  {
   "cell_type": "code",
   "execution_count": 46,
   "id": "38e81695-085d-4410-ba61-8f1739e0cd6b",
   "metadata": {},
   "outputs": [
    {
     "data": {
      "text/plain": [
       "108"
      ]
     },
     "execution_count": 46,
     "metadata": {},
     "output_type": "execute_result"
    }
   ],
   "source": [
    "\"\"\" (vii) Implement a Python program to find the trimmed mean of a list, excluding a certain percentage of outliers.\"\"\"\n",
    "\n",
    "def trimmed_mean(values, trim_percentage):\n",
    "    # Ensure trim percentage is between 0 and 50\n",
    "    if not 0 <= trim_percentage <= 50:\n",
    "        raise ValueError(\"Trim percentage must be between 0 and 50.\")\n",
    "\n",
    "    # Sort the values\n",
    "    sorted_values = sorted(values)\n",
    "    \n",
    "    # Calculate the number of values to trim from each end\n",
    "    trim_count = int(len(sorted_values) * trim_percentage / 100)\n",
    "    \n",
    "    # Slice the list to exclude the outliers\n",
    "    trimmed_values = sorted_values[trim_count:len(sorted_values) - trim_count]\n",
    "    \n",
    "    # Calculate the mean of the trimmed list\n",
    "    return statistics.mean(trimmed_values)\n",
    "\n",
    "trimmed_mean(int_list,10)"
   ]
  },
  {
   "cell_type": "code",
   "execution_count": 47,
   "id": "4e27b91e-25db-41d7-950d-256eb3623816",
   "metadata": {},
   "outputs": [
    {
     "data": {
      "text/plain": [
       "array([232, 231, 290, 223, 239, 214, 286, 247, 236, 220, 279, 237, 223,\n",
       "       277, 292, 243, 278, 207, 235, 251, 223, 265, 238, 284, 279, 209,\n",
       "       279, 291, 244, 272, 248, 264, 283, 256, 283, 240, 243, 274, 260,\n",
       "       285, 228, 276, 261, 252, 240, 215, 292, 296, 273, 239, 244, 225,\n",
       "       225, 216, 236, 284, 253, 203, 289, 292, 206, 237, 244, 295, 295,\n",
       "       241, 246, 205, 289, 276, 229, 208, 241, 225, 228, 203, 283, 211,\n",
       "       278, 256, 285, 239, 261, 210, 228, 218, 275, 262, 224, 210, 227,\n",
       "       244, 290, 292, 261, 227, 297, 226, 261, 291, 236, 257, 288, 216,\n",
       "       252, 210, 258, 205, 214, 209, 244, 287, 241, 226, 249, 299, 243,\n",
       "       254, 244, 280, 232, 286, 288, 291, 244, 292, 286, 201, 260, 251,\n",
       "       298, 274, 297, 240, 241, 275, 213, 212, 298, 223, 279, 289, 298,\n",
       "       208, 218, 294, 227, 252, 208, 213, 251, 253, 215, 298, 295, 272,\n",
       "       241, 277, 277, 200, 276, 282, 221, 282, 235, 261, 289, 205, 248,\n",
       "       276, 231, 213, 242, 235, 254, 222, 213, 292, 226, 257, 235, 253,\n",
       "       232, 207, 298, 254, 280, 278, 268, 299, 268, 205, 281, 254, 299,\n",
       "       213, 258, 289, 276, 211, 290, 227, 200, 268, 221, 217, 240, 295,\n",
       "       212, 244, 207, 267, 275, 225, 269, 270, 275, 260, 255, 262, 217,\n",
       "       267, 211, 255, 254, 248, 222, 274, 245, 212, 265, 295, 281, 230,\n",
       "       235, 243, 291, 291, 221, 250, 263, 276, 253, 276, 286, 250, 291,\n",
       "       275, 203, 248, 224, 212, 216, 214, 295, 264, 210, 229, 273, 223,\n",
       "       263, 291, 242, 219, 257, 223, 228, 249, 202, 263, 293, 237, 246,\n",
       "       237, 271, 243, 200, 249, 205, 289, 225, 286, 227, 252, 288, 274,\n",
       "       284, 247, 296, 267, 297, 214, 271, 241, 277, 233, 239, 217, 271,\n",
       "       277, 278, 294, 239, 259, 260, 255, 253, 269, 215, 288, 223, 216,\n",
       "       200, 231, 275, 222, 207, 283, 247, 284, 296, 234, 205, 292, 299,\n",
       "       277, 246, 250, 269, 271, 246, 237, 235, 293, 273, 236, 295, 275,\n",
       "       214, 240, 201, 211, 254, 257, 235, 221, 211, 218, 214, 207, 297,\n",
       "       221, 242, 237, 237, 297, 204, 240, 269, 210, 292, 283, 299, 214,\n",
       "       247, 215, 201, 287, 216, 228, 230, 222, 243, 240, 244, 261, 275,\n",
       "       297, 223, 211, 290, 223, 299, 262, 269, 265, 204, 284, 262, 290,\n",
       "       239, 295, 298, 291, 234, 216, 270, 205, 263, 286, 246, 286, 232,\n",
       "       273, 242, 231, 247, 239, 298, 246, 215, 228, 248, 217, 294, 226,\n",
       "       209, 276, 284, 254, 268, 237, 294, 212, 268, 257, 281, 241, 254,\n",
       "       246, 243, 259, 270, 287, 260, 245, 234, 210, 207, 225, 288, 286,\n",
       "       244, 201, 291, 239, 293, 255, 233, 228, 289, 211, 231, 255, 264,\n",
       "       239, 241, 205, 277, 266, 250, 290, 239, 276, 275, 265, 292, 210,\n",
       "       279, 211, 287, 279, 214, 238, 244, 225, 258, 206, 229, 272, 205,\n",
       "       232, 275, 255, 246, 214, 225, 251, 221, 284, 262, 255, 223, 205,\n",
       "       290, 267, 200, 259, 283, 249])"
      ]
     },
     "execution_count": 47,
     "metadata": {},
     "output_type": "execute_result"
    }
   ],
   "source": [
    "\"\"\" Q2. Generate a list of 500 integers containing values between 200 to 300 and store it in the variable `int_list2`. After generating the list, find the following:\"\"\"\n",
    "int_list2 = np.random.randint(200,300,500)\n",
    "int_list2"
   ]
  },
  {
   "cell_type": "code",
   "execution_count": 59,
   "id": "a5833425-c12e-4169-927f-ada381bb558a",
   "metadata": {},
   "outputs": [
    {
     "data": {
      "image/png": "[encoded data removed]",
      "text/plain": [
       "<Figure size 1200x600 with 3 Axes>"
      ]
     },
     "metadata": {},
     "output_type": "display_data"
    }
   ],
   "source": [
    "\"\"\"  (i) Compare the given list of visualization for the given data:\n",
    " 1. Frequency & Gaussian distribution\n",
    " 2. Frequency smoothened KDE plot\n",
    " 3. Gaussian distribution & smoothened KDE plot\"\"\"\n",
    "\n",
    "# 1. Frequency & Gaussian Distribution\n",
    "plt.figure(figsize=(12, 6))\n",
    "plt.subplot(1,3, 1)\n",
    "# Histogram (frequency distribution)\n",
    "sns.histplot(int_list2, bins=30, kde=False, color='skyblue', stat='density', label='Histogram', edgecolor='black')\n",
    "\n",
    "# Overlay Gaussian distribution\n",
    "xmin, xmax = plt.xlim()\n",
    "x = np.linspace(xmin, xmax, 100)\n",
    "p = norm.pdf(x, np.mean(int_list2), np.std(int_list2))\n",
    "plt.plot(x, p, 'r', label='Gaussian Distribution')\n",
    "\n",
    "plt.title(\"Frequency & Gaussian Distribution\")\n",
    "plt.legend()\n",
    "\n",
    "# 2. Frequency smoothened KDE Plot\n",
    "plt.subplot(1, 3, 2)\n",
    "# Histogram (frequency distribution)\n",
    "sns.histplot(int_list2, bins=30, kde=False, color='skyblue', stat='density', label='Histogram', edgecolor='black')\n",
    "\n",
    "# Overlay KDE plot\n",
    "sns.kdeplot(int_list2, color='green', label='KDE', linewidth=2)\n",
    "\n",
    "plt.title(\"Frequency & Smoothed KDE Plot\")\n",
    "plt.legend()\n",
    "\n",
    "# 3. Gaussian Distribution & Smoothed KDE Plot\n",
    "plt.subplot(1, 3, 3)\n",
    "# Gaussian distribution\n",
    "plt.plot(x, p, 'r', label='Gaussian Distribution')\n",
    "\n",
    "# Overlay KDE plot\n",
    "sns.kdeplot(int_list2, color='green', label='KDE', linewidth=2)\n",
    "\n",
    "plt.title(\"Gaussian Distribution & Smoothed KDE Plot\")\n",
    "plt.legend()\n",
    "\n",
    "# Show all plots\n",
    "plt.tight_layout()\n",
    "plt.show()"
   ]
  },
  {
   "cell_type": "code",
   "execution_count": 60,
   "id": "20a91bb3-ca1b-43c2-8433-1dc0a47387c9",
   "metadata": {},
   "outputs": [
    {
     "data": {
      "text/plain": [
       "99"
      ]
     },
     "execution_count": 60,
     "metadata": {},
     "output_type": "execute_result"
    }
   ],
   "source": [
    "\"\"\" (ii) Write a Python function to calculate the range of a given list of numbers.\"\"\"\n",
    "\n",
    "range_ = max(int_list2) - min(int_list2)\n",
    "range_"
   ]
  },
  {
   "cell_type": "code",
   "execution_count": 62,
   "id": "dc0272c9-0a9c-4ee2-8868-fded5bb4d182",
   "metadata": {},
   "outputs": [
    {
     "name": "stdout",
     "output_type": "stream",
     "text": [
      "29.017236257093817\n",
      "842\n"
     ]
    }
   ],
   "source": [
    "\"\"\" (iii) Create a program to find the variance and standard deviation of a list of numbers.\"\"\"\n",
    "print(statistics.stdev(int_list2))\n",
    "print(statistics.variance(int_list2))"
   ]
  },
  {
   "cell_type": "code",
   "execution_count": 75,
   "id": "85a323e8-41a4-4a05-a9d1-fb9da7a5df0a",
   "metadata": {},
   "outputs": [
    {
     "data": {
      "text/plain": [
       "50.25"
      ]
     },
     "execution_count": 75,
     "metadata": {},
     "output_type": "execute_result"
    }
   ],
   "source": [
    "\"\"\"(iv) Implement a function to compute the interquartile range (IQR) of a list of values.\"\"\"\n",
    "\n",
    "Q1, Q3 = np.percentile(int_list2,[25,75])\n",
    "IQR = Q3-Q1\n",
    "IQR"
   ]
  },
  {
   "cell_type": "code",
   "execution_count": 76,
   "id": "94c26726-a111-404c-9ce3-a707b52613ab",
   "metadata": {},
   "outputs": [
    {
     "data": {
      "text/plain": [
       "11.562586670715346"
      ]
     },
     "execution_count": 76,
     "metadata": {},
     "output_type": "execute_result"
    }
   ],
   "source": [
    "\"\"\"(v) Build a program to calculate the coefficient of variation for a dataset.\"\"\"\n",
    "\n",
    "def cof_var(x):\n",
    "    return (statistics.stdev(x)/np.mean(x))*100\n",
    "\n",
    "cof_var(int_list2)"
   ]
  },
  {
   "cell_type": "code",
   "execution_count": 77,
   "id": "c43ac91e-a7a7-4cc1-8b70-ab7506ccc426",
   "metadata": {},
   "outputs": [
    {
     "data": {
      "text/plain": [
       "25.10916"
      ]
     },
     "execution_count": 77,
     "metadata": {},
     "output_type": "execute_result"
    }
   ],
   "source": [
    "\"\"\" (vi) Write a Python function to find the mean absolute deviation (MAD) of a list of numbers.\"\"\"\n",
    "\n",
    "def mean_absolute_deviation(data):\n",
    "    # Ensure the data is not empty\n",
    "    if len(data) == 0:\n",
    "        raise ValueError(\"The data list cannot be empty.\")\n",
    "    \n",
    "    # Calculate the mean of the data\n",
    "    mean = np.mean(data)\n",
    "    \n",
    "    # Compute absolute deviations from the mean\n",
    "    absolute_deviations = np.abs(data - mean)\n",
    "    \n",
    "    # Calculate the mean of the absolute deviations\n",
    "    mad = np.mean(absolute_deviations)\n",
    "    \n",
    "    return mad\n",
    "\n",
    "mean_absolute_deviation(int_list2)"
   ]
  },
  {
   "cell_type": "code",
   "execution_count": 78,
   "id": "98277903-10cb-4db0-92aa-9b46a901fb64",
   "metadata": {},
   "outputs": [
    {
     "data": {
      "text/plain": [
       "[226.0, 249.0, 276.75]"
      ]
     },
     "execution_count": 78,
     "metadata": {},
     "output_type": "execute_result"
    }
   ],
   "source": [
    "\"\"\"(vii) Create a program to calculate the quartile deviation of a list of values.\"\"\"\n",
    "\n",
    "statistics.quantiles(int_list2)"
   ]
  },
  {
   "cell_type": "code",
   "execution_count": 79,
   "id": "e263f9ac-d4d4-48fb-9101-a5565b784065",
   "metadata": {},
   "outputs": [
    {
     "data": {
      "text/plain": [
       "39.448832075486735"
      ]
     },
     "execution_count": 79,
     "metadata": {},
     "output_type": "execute_result"
    }
   ],
   "source": [
    "\"\"\" (viii) Implement a function to find the range-based coefficient of dispersion for a dataset.\"\"\"\n",
    "\n",
    "def range_disp(x):\n",
    "    rangee = max(x)-min(x)\n",
    "    return (rangee/np.mean(x))*100\n",
    "\n",
    "range_disp(int_list2)"
   ]
  },
  {
   "cell_type": "code",
   "execution_count": 80,
   "id": "414ea6b0-95a9-4b04-8a32-4f6165dfd916",
   "metadata": {},
   "outputs": [
    {
     "name": "stdout",
     "output_type": "stream",
     "text": [
      "Expected Value: 2.0999999999999996\n",
      "Variance: 0.49\n"
     ]
    }
   ],
   "source": [
    "\"\"\" Q3.  Write a Python class representing a discrete random variable with methods to calculate its expected value and variance.\"\"\"\n",
    "\n",
    "class DiscreteRandomVariable:\n",
    "    def __init__(self, values_probabilities):\n",
    "        \"\"\"\n",
    "        Initialize the discrete random variable.\n",
    "        \n",
    "        :param values_probabilities: A list of tuples, where each tuple contains a value and its probability.\n",
    "        \"\"\"\n",
    "        if not values_probabilities:\n",
    "            raise ValueError(\"The list of values and probabilities cannot be empty.\")\n",
    "        \n",
    "        total_prob = sum(prob for _, prob in values_probabilities)\n",
    "        if not np.isclose(total_prob, 1.0):\n",
    "            raise ValueError(\"The sum of probabilities must be 1.\")\n",
    "        \n",
    "        self.values_probabilities = values_probabilities\n",
    "\n",
    "    def expected_value(self):\n",
    "        \"\"\"\n",
    "        Calculate the expected value (mean) of the discrete random variable.\n",
    "        \n",
    "        :return: The expected value.\n",
    "        \"\"\"\n",
    "        return sum(value * prob for value, prob in self.values_probabilities)\n",
    "\n",
    "    def variance(self):\n",
    "        \"\"\"\n",
    "        Calculate the variance of the discrete random variable.\n",
    "        \n",
    "        :return: The variance.\n",
    "        \"\"\"\n",
    "        mean = self.expected_value()\n",
    "        return sum((value - mean) ** 2 * prob for value, prob in self.values_probabilities)\n",
    "\n",
    "# Example usage\n",
    "values_probabilities = [(1, 0.2), (2, 0.5), (3, 0.3)]  # Example values and their probabilities\n",
    "rv = DiscreteRandomVariable(values_probabilities)\n",
    "\n",
    "print(f\"Expected Value: {rv.expected_value()}\")\n",
    "print(f\"Variance: {rv.variance()}\")"
   ]
  },
  {
   "cell_type": "code",
   "execution_count": 11,
   "id": "0d302d21-41ba-47f8-bda8-45d3b55d80ee",
   "metadata": {},
   "outputs": [
    {
     "name": "stdout",
     "output_type": "stream",
     "text": [
      "The outcomes are [5, 4, 4, 5, 3, 2, 1, 3, 3, 2], with expected value 3.2, and variance 1.7333333333333334\n"
     ]
    }
   ],
   "source": [
    "\"\"\"Q4. Implement a program to simulate the rolling of a fair six-sided die and calculate the expected value and variance of the outcomes.\"\"\"\n",
    "\n",
    "def rolling_dice(n):\n",
    "    number = [np.random.randint(1,6) for i in range(n)]\n",
    "    return number\n",
    "\n",
    "def expected_value(number):\n",
    "    return sum(number)/len(number)\n",
    "\n",
    "def var(number):\n",
    "    return statistics.variance(number)\n",
    "\n",
    "\n",
    "number = rolling_dice(10)\n",
    "print(f\"The outcomes are {number}, with expected value {expected_value(number)}, and variance {var(number)}\")"
   ]
  },
  {
   "cell_type": "code",
   "execution_count": 15,
   "id": "ed6f73f5-701d-46d8-9e3a-b6a903b31412",
   "metadata": {},
   "outputs": [
    {
     "data": {
      "text/plain": [
       "(array([2, 4, 4, 3, 3, 2, 5, 3, 3, 4, 4, 4, 4, 4, 4, 4, 2, 2, 4, 4, 3, 3,\n",
       "        1, 3, 4, 3, 3, 3, 5, 4, 1, 3, 2, 4, 5, 2, 4, 4, 3, 3, 3, 2, 5, 1,\n",
       "        3, 3, 4, 3, 4, 2, 2, 3, 1, 5, 5, 1, 3, 3, 4, 5, 3, 4, 1, 5, 4, 4,\n",
       "        4, 3, 2, 1, 3, 5, 4, 2, 4, 3, 3, 2, 2, 4, 3, 2, 3, 3, 3, 3, 4, 2,\n",
       "        2, 1, 4, 3, 5, 2, 4, 2, 3, 4, 4, 3, 3, 3, 4, 1, 4, 3, 3, 4, 1, 3,\n",
       "        1, 3, 3, 2, 3, 4, 3, 3, 2, 4, 3, 2, 5, 2, 1, 4, 3, 5, 5, 1, 5, 4,\n",
       "        4, 2, 4, 5, 4, 1, 1, 2, 4, 2, 3, 4, 2, 2, 3, 4, 3, 4, 2, 4, 4, 3,\n",
       "        4, 1, 3, 5, 3, 4, 1, 2, 5, 2, 2, 5, 2, 1, 3, 0, 3, 4, 4, 3, 4, 2,\n",
       "        3, 4, 4, 4, 4, 2, 4, 3, 4, 3, 2, 3, 2, 4, 4, 2, 4, 2, 3, 4, 3, 3,\n",
       "        2, 5, 4, 3, 2, 3, 1, 3, 3, 2, 3, 2, 5, 5, 3, 5, 3, 4, 4, 5, 5, 3,\n",
       "        2, 4, 5, 3, 1, 4, 2, 3, 3, 2, 1, 4, 3, 4, 3, 4, 4, 3, 2, 3, 3, 4,\n",
       "        2, 3, 5, 4, 2, 4, 3, 3, 3, 2, 5, 3, 1, 2, 4, 3, 1, 3, 3, 3, 3, 3,\n",
       "        3, 1, 4, 3, 3, 4, 1, 4, 5, 3, 3, 4, 2, 4, 3, 4, 4, 1, 4, 3, 3, 5,\n",
       "        5, 4, 4, 4, 3, 2, 1, 2, 5, 0, 1, 4, 3, 4, 3, 1, 2, 3, 2, 3, 4, 2,\n",
       "        3, 4, 2, 3, 1, 2, 3, 2, 2, 3, 4, 4, 5, 5, 3, 4, 2, 4, 5, 2, 1, 2,\n",
       "        2, 5, 4, 4, 4, 4, 2, 4, 4, 1, 1, 3, 2, 2, 3, 2, 3, 4, 3, 5, 5, 4,\n",
       "        4, 5, 4, 2, 3, 4, 3, 1, 2, 4, 4, 3, 3, 3, 0, 1, 3, 2, 4, 4, 4, 2,\n",
       "        3, 3, 3, 4, 4, 3, 3, 3, 3, 4, 1, 4, 2, 2, 3, 4, 3, 4, 3, 0, 3, 2,\n",
       "        5, 3, 2, 2, 2, 3, 3, 3, 4, 4, 4, 1, 5, 2, 1, 3, 2, 2, 2, 4, 2, 4,\n",
       "        2, 2, 2, 0, 5, 3, 3, 3, 2, 4, 1, 1, 4, 2, 2, 2, 4, 3, 3, 3, 3, 5,\n",
       "        4, 3, 4, 3, 3, 5, 4, 5, 2, 4, 4, 4, 4, 3, 3, 4, 4, 4, 4, 2, 2, 3,\n",
       "        1, 3, 3, 3, 2, 2, 3, 3, 3, 3, 3, 4, 3, 3, 2, 4, 4, 1, 4, 3, 2, 4,\n",
       "        4, 3, 3, 2, 3, 4, 4, 3, 2, 5, 2, 2, 4, 3, 3, 3, 2, 4, 4, 4, 4, 5,\n",
       "        4, 5, 4, 2, 4, 5, 4, 4, 3, 1, 2, 2, 2, 3, 4, 5, 2, 2, 3, 3, 2, 4,\n",
       "        4, 4, 3, 5, 2, 5, 3, 2, 2, 2, 2, 3, 4, 3, 3, 2, 4, 3, 2, 3, 1, 3,\n",
       "        4, 1, 3, 3, 3, 3, 2, 3, 3, 4, 2, 2, 5, 3, 2, 0, 4, 3, 5, 5, 4, 2,\n",
       "        2, 4, 3, 4, 3, 2, 3, 4, 2, 1, 4, 1, 5, 2, 2, 1, 4, 3, 2, 3, 2, 2,\n",
       "        3, 4, 3, 4, 2, 1, 4, 4, 2, 4, 3, 3, 5, 4, 3, 5, 4, 4, 5, 3, 2, 4,\n",
       "        1, 3, 3, 2, 4, 3, 4, 2, 5, 1, 2, 2, 3, 4, 3, 4, 3, 4, 5, 3, 0, 4,\n",
       "        4, 3, 3, 1, 1, 4, 1, 2, 3, 3, 4, 4, 3, 2, 3, 4, 4, 2, 2, 2, 2, 3,\n",
       "        4, 3, 2, 3, 3, 3, 3, 3, 4, 3, 3, 1, 3, 2, 3, 3, 1, 5, 2, 4, 2, 3,\n",
       "        3, 3, 5, 3, 3, 4, 2, 2, 5, 3, 4, 4, 2, 1, 3, 2, 2, 4, 2, 4, 4, 2,\n",
       "        2, 2, 1, 2, 3, 3, 3, 2, 3, 1, 2, 4, 1, 2, 3, 4, 3, 3, 4, 2, 4, 2,\n",
       "        2, 3, 1, 2, 3, 4, 2, 4, 4, 5, 4, 3, 3, 2, 5, 4, 4, 4, 3, 2, 2, 5,\n",
       "        1, 3, 3, 4, 4, 2, 2, 4, 3, 3, 2, 3, 2, 2, 3, 4, 3, 3, 2, 3, 4, 2,\n",
       "        2, 3, 4, 2, 4, 4, 2, 4, 2, 4, 4, 5, 5, 2, 5, 2, 4, 5, 4, 2, 4, 4,\n",
       "        3, 3, 2, 1, 2, 4, 3, 4, 4, 3, 3, 3, 3, 3, 3, 2, 3, 1, 4, 3, 4, 4,\n",
       "        2, 4, 3, 3, 5, 4, 3, 3, 3, 2, 2, 5, 1, 3, 2, 4, 3, 4, 4, 2, 1, 2,\n",
       "        3, 5, 2, 4, 3, 4, 2, 3, 3, 4, 3, 3, 4, 4, 2, 2, 3, 3, 4, 3, 3, 2,\n",
       "        2, 3, 3, 2, 4, 2, 4, 3, 3, 3, 1, 2, 4, 2, 4, 5, 3, 4, 3, 3, 4, 2,\n",
       "        3, 4, 5, 3, 3, 2, 1, 4, 3, 2, 3, 2, 3, 5, 3, 4, 0, 5, 2, 4, 2, 2,\n",
       "        4, 3, 3, 3, 3, 2, 4, 4, 3, 2, 3, 1, 4, 3, 4, 3, 3, 3, 3, 4, 3, 4,\n",
       "        4, 3, 3, 4, 3, 3, 4, 1, 3, 2, 5, 2, 2, 3, 2, 3, 2, 1, 3, 5, 4, 5,\n",
       "        3, 3, 3, 3, 4, 2, 3, 3, 3, 3, 5, 4, 3, 4, 4, 3, 3, 3, 4, 2, 4, 2,\n",
       "        4, 2, 5, 5, 3, 4, 1, 4, 2, 3, 2, 3, 2, 4, 4, 4, 4, 4, 3, 3, 5, 2,\n",
       "        3, 3, 1, 4, 3, 2, 2, 3, 4, 2]),\n",
       " 3.051,\n",
       " 1.200399)"
      ]
     },
     "execution_count": 15,
     "metadata": {},
     "output_type": "execute_result"
    }
   ],
   "source": [
    "\"\"\"Q5. Create a Python function to generate random samples from a given probability distribution (e.g.binomial, Poisson) and calculate their mean and variance.\"\"\"\n",
    "\n",
    "def generate_samples_and_stats(distribution, params, sample_size=1000):\n",
    "    if distribution == 'binomial':\n",
    "        n, p = params  # Number of trials (n) and probability of success (p)\n",
    "        samples = np.random.binomial(n, p, sample_size)\n",
    "        \n",
    "    elif distribution == 'poisson':\n",
    "        lam = params[0]  # Lambda (mean number of events)\n",
    "        samples = np.random.poisson(lam, sample_size)\n",
    "        \n",
    "    elif distribution == 'normal':\n",
    "        mu, sigma = params  # Mean (mu) and standard deviation (sigma)\n",
    "        samples = np.random.normal(mu, sigma, sample_size)\n",
    "    \n",
    "    elif distribution == 'uniform':\n",
    "        low, high = params  # Lower and upper bounds\n",
    "        samples = np.random.uniform(low, high, sample_size)\n",
    "    \n",
    "    else:\n",
    "        raise ValueError(\"Unsupported distribution\")\n",
    "    \n",
    "    # Calculate mean and variance\n",
    "    mean = np.mean(samples)\n",
    "    variance = np.var(samples)\n",
    "    \n",
    "    return samples, mean, variance\n",
    "\n",
    "generate_samples_and_stats(\"binomial\",(5,0.6))"
   ]
  },
  {
   "cell_type": "code",
   "execution_count": 17,
   "id": "d269ca74-b180-4048-8c99-26cb99615e85",
   "metadata": {},
   "outputs": [
    {
     "data": {
      "text/plain": [
       "(array([ 5.1667054 ,  4.00446845,  4.96973989,  8.00934714,  2.59225679,\n",
       "         5.09817425,  2.99849835,  4.26968687,  5.46062793,  6.4447771 ,\n",
       "         6.94299714,  3.47539215,  4.34351143,  3.35092687,  4.87437496,\n",
       "         2.94924615,  1.46493128,  4.86153348, -0.52260246,  6.05759401,\n",
       "         8.50976204,  3.83817766,  6.36103865,  3.14307534,  0.87353498,\n",
       "         3.92356698, -0.04825486,  6.37785747,  1.54557244,  4.77685423,\n",
       "         4.08759835,  4.66758767,  7.50356273,  6.58682277,  5.99655825,\n",
       "         3.99950685,  6.38442006,  8.47367055,  7.07156878,  3.40916816,\n",
       "         3.14747231,  4.58513654,  5.59556658,  5.11048712,  4.44744683,\n",
       "         4.88498691,  4.76025099,  4.1640072 ,  3.84301194,  1.37531347,\n",
       "         4.40276681,  4.83966638,  4.98400841,  6.64448311,  4.61045748,\n",
       "         5.28854182,  3.97562709,  5.55627984,  0.50716852, 10.02513691,\n",
       "         1.29292979,  4.60407858,  5.96022813,  6.04639316,  4.02545827,\n",
       "         5.67384621,  1.86901645,  3.42748035,  7.22916484,  5.61535505,\n",
       "         7.56808095,  4.73013813,  6.03118608,  3.6081641 ,  5.89347761,\n",
       "         8.42514759,  8.63569967,  8.72076637,  7.30025374,  3.83515714,\n",
       "         7.00646316,  3.5596527 ,  2.28688317,  5.69976185,  5.71824849,\n",
       "         5.93094392,  5.13804245,  7.82129356,  7.87367533,  9.29265866,\n",
       "         6.9773408 ,  4.70240249,  1.96062743,  1.70099241,  8.04672513,\n",
       "         5.90024465,  5.8991838 ,  5.92306551,  2.33522936,  1.24654602,\n",
       "         8.51457714,  8.69517218,  2.87992924,  4.704759  ,  5.34418458,\n",
       "         8.67800262,  2.00628701,  6.39932063,  4.63395841,  2.50300231,\n",
       "         5.8577839 ,  4.83205666,  5.26617739,  4.30711466,  4.9288843 ,\n",
       "         3.15373314, -0.82341927,  3.50739813,  0.83769219,  3.55940491,\n",
       "         4.07756357,  5.65523104,  6.96488726,  5.31211403,  4.46809627,\n",
       "         4.3550569 ,  4.81998682,  5.12942627,  6.24116369,  7.20574778,\n",
       "         4.37531664,  6.52363125,  2.32824242,  3.16347952,  5.95046192,\n",
       "         3.98192158,  3.03023792,  6.23715919,  2.35893596,  6.81530172,\n",
       "         5.1201846 ,  3.40851491,  5.31702814,  4.03932895,  6.12541301,\n",
       "         4.51216011,  7.17176097,  3.61025104,  7.02701391,  3.97852483,\n",
       "         5.44480029,  4.67446571,  4.45297119,  3.4926047 ,  5.5589592 ,\n",
       "         3.42696226,  4.87111622,  4.31343797,  5.30779495,  0.730579  ,\n",
       "         5.76460729,  0.19597018,  4.59075488,  3.5737547 ,  5.40897415,\n",
       "         3.39144848,  3.75674383,  3.47241118,  1.05559742,  7.3636431 ,\n",
       "         7.22719779,  5.99086732,  6.27640186,  4.14676964,  2.08778326,\n",
       "         2.83104066,  5.82938467,  4.52608459,  5.74695278,  1.76403706,\n",
       "         2.85284643,  2.18194198,  5.39869526,  4.00406665,  3.93958282,\n",
       "         4.19389205,  5.62924829,  5.45602986,  5.99933735,  7.38343778,\n",
       "         8.78972013,  5.66743064,  5.12890382,  1.39597693,  5.05603046,\n",
       "         6.65319307,  5.41681196,  2.86001993, -2.41266465,  4.9143494 ]),\n",
       " 4.7471339171899585,\n",
       " 2,\n",
       " 2.067463847340223)"
      ]
     },
     "execution_count": 17,
     "metadata": {},
     "output_type": "execute_result"
    }
   ],
   "source": [
    "\"\"\" Q6. Write a Python script to generate random numbers from a Gaussian (normal) distribution and compute the mean, variance, and standard deviation of the samples.\"\"\"\n",
    "\n",
    "def normal_dist(mean,variance,samples):\n",
    "    t_samples = np.random.normal(mean,variance,samples)\n",
    "    meann = np.mean(t_samples)\n",
    "    var = statistics.variance(t_samples)\n",
    "    std = np.sqrt(var)\n",
    "    \n",
    "    return t_samples, meann, variance, std\n",
    "\n",
    "normal_dist(5,2,200)"
   ]
  },
  {
   "cell_type": "code",
   "execution_count": 2,
   "id": "aa60fed8-aa8e-4b4e-bdf9-41e08db891ec",
   "metadata": {},
   "outputs": [
    {
     "data": {
      "text/html": [
       "<div>\n",
       "<style scoped>\n",
       "    .dataframe tbody tr th:only-of-type {\n",
       "        vertical-align: middle;\n",
       "    }\n",
       "\n",
       "    .dataframe tbody tr th {\n",
       "        vertical-align: top;\n",
       "    }\n",
       "\n",
       "    .dataframe thead th {\n",
       "        text-align: right;\n",
       "    }\n",
       "</style>\n",
       "<table border=\"1\" class=\"dataframe\">\n",
       "  <thead>\n",
       "    <tr style=\"text-align: right;\">\n",
       "      <th></th>\n",
       "      <th>total_bill</th>\n",
       "      <th>tip</th>\n",
       "    </tr>\n",
       "  </thead>\n",
       "  <tbody>\n",
       "    <tr>\n",
       "      <th>0</th>\n",
       "      <td>16.99</td>\n",
       "      <td>1.01</td>\n",
       "    </tr>\n",
       "    <tr>\n",
       "      <th>1</th>\n",
       "      <td>10.34</td>\n",
       "      <td>1.66</td>\n",
       "    </tr>\n",
       "    <tr>\n",
       "      <th>2</th>\n",
       "      <td>21.01</td>\n",
       "      <td>3.50</td>\n",
       "    </tr>\n",
       "    <tr>\n",
       "      <th>3</th>\n",
       "      <td>23.68</td>\n",
       "      <td>3.31</td>\n",
       "    </tr>\n",
       "    <tr>\n",
       "      <th>4</th>\n",
       "      <td>24.59</td>\n",
       "      <td>3.61</td>\n",
       "    </tr>\n",
       "    <tr>\n",
       "      <th>...</th>\n",
       "      <td>...</td>\n",
       "      <td>...</td>\n",
       "    </tr>\n",
       "    <tr>\n",
       "      <th>239</th>\n",
       "      <td>29.03</td>\n",
       "      <td>5.92</td>\n",
       "    </tr>\n",
       "    <tr>\n",
       "      <th>240</th>\n",
       "      <td>27.18</td>\n",
       "      <td>2.00</td>\n",
       "    </tr>\n",
       "    <tr>\n",
       "      <th>241</th>\n",
       "      <td>22.67</td>\n",
       "      <td>2.00</td>\n",
       "    </tr>\n",
       "    <tr>\n",
       "      <th>242</th>\n",
       "      <td>17.82</td>\n",
       "      <td>1.75</td>\n",
       "    </tr>\n",
       "    <tr>\n",
       "      <th>243</th>\n",
       "      <td>18.78</td>\n",
       "      <td>3.00</td>\n",
       "    </tr>\n",
       "  </tbody>\n",
       "</table>\n",
       "<p>244 rows × 2 columns</p>\n",
       "</div>"
      ],
      "text/plain": [
       "     total_bill   tip\n",
       "0         16.99  1.01\n",
       "1         10.34  1.66\n",
       "2         21.01  3.50\n",
       "3         23.68  3.31\n",
       "4         24.59  3.61\n",
       "..          ...   ...\n",
       "239       29.03  5.92\n",
       "240       27.18  2.00\n",
       "241       22.67  2.00\n",
       "242       17.82  1.75\n",
       "243       18.78  3.00\n",
       "\n",
       "[244 rows x 2 columns]"
      ]
     },
     "execution_count": 2,
     "metadata": {},
     "output_type": "execute_result"
    }
   ],
   "source": [
    "\"\"\" Q7.  Use seaborn library to load `tips` dataset. Find the following from the dataset for the columns `total_bill` and `tip`:\"\"\"\n",
    "\n",
    "df = sns.load_dataset(\"tips\")\n",
    "df1 = df[[\"total_bill\",\"tip\"]]\n",
    "df1"
   ]
  },
  {
   "cell_type": "code",
   "execution_count": 3,
   "id": "73f97cc1-75da-4570-a329-54ff4820d305",
   "metadata": {},
   "outputs": [
    {
     "name": "stderr",
     "output_type": "stream",
     "text": [
      "/opt/conda/lib/python3.10/site-packages/numpy/core/fromnumeric.py:3430: FutureWarning: In a future version, DataFrame.mean(axis=None) will return a scalar mean over the entire DataFrame. To retain the old behavior, use 'frame.mean(axis=0)' or just 'frame.mean()'\n",
      "  return mean(axis=axis, dtype=dtype, out=out, **kwargs)\n"
     ]
    },
    {
     "data": {
      "text/plain": [
       "total_bill    1.140215\n",
       "tip           1.474506\n",
       "dtype: float64"
      ]
     },
     "execution_count": 3,
     "metadata": {},
     "output_type": "execute_result"
    }
   ],
   "source": [
    "\"\"\"(i) Write a Python function that calculates their skewness.\"\"\"\n",
    "\n",
    "def cal_skewness(data):\n",
    "    n = len(data)\n",
    "    mean = np.mean(data)\n",
    "    std_dev = np.std(data, ddof=0)  # Population standard deviation\n",
    "    skewness = (n * np.sum((data - mean) ** 3)) / ((n - 1) * (n - 2) * std_dev ** 3)\n",
    "    return skewness\n",
    "\n",
    "cal_skewness(df1)"
   ]
  },
  {
   "cell_type": "code",
   "execution_count": 4,
   "id": "beb7cc35-3f17-4cdc-9674-788e3fde9e2a",
   "metadata": {},
   "outputs": [
    {
     "data": {
      "text/plain": [
       "'Positive Skewness'"
      ]
     },
     "execution_count": 4,
     "metadata": {},
     "output_type": "execute_result"
    }
   ],
   "source": [
    "\"\"\"(ii) Create a program that determines whether the columns exhibit positive skewness, negative skewness, or is approximately symmetric.\"\"\"\n",
    "\n",
    "skew = cal_skewness(df1)\n",
    "\n",
    "def determine_skewness_type(a):\n",
    "    for skewness in a:\n",
    "        if skewness > 0:\n",
    "            return \"Positive Skewness\"\n",
    "        elif skewness < 0:\n",
    "            return \"Negative Skewness\"\n",
    "        else:\n",
    "            return \"Approximately Symmetric\"\n",
    "    \n",
    "determine_skewness_type(skew)"
   ]
  },
  {
   "cell_type": "code",
   "execution_count": 5,
   "id": "a06b7887-fbb2-4918-8a8b-b31b0e7453e5",
   "metadata": {},
   "outputs": [
    {
     "data": {
      "text/plain": [
       "8.323501629224854"
      ]
     },
     "execution_count": 5,
     "metadata": {},
     "output_type": "execute_result"
    }
   ],
   "source": [
    "\"\"\"(iii) Write a function that calculates the covariance between two columns.\"\"\"\n",
    "\n",
    "def covar_(x,y):\n",
    "    return statistics.covariance(x,y)\n",
    "\n",
    "covar_(df1.total_bill,df1.tip)"
   ]
  },
  {
   "cell_type": "code",
   "execution_count": 6,
   "id": "e581e6dc-d913-4a36-ada3-aa3d649f0e24",
   "metadata": {},
   "outputs": [
    {
     "data": {
      "text/plain": [
       "0.6757341092113646"
      ]
     },
     "execution_count": 6,
     "metadata": {},
     "output_type": "execute_result"
    }
   ],
   "source": [
    "\"\"\" (iv) Implement a Python program that calculates the Pearson correlation coefficient between two columns.\"\"\"\n",
    "\n",
    "def correl(x,y):\n",
    "    return statistics.correlation(x,y)\n",
    "    \n",
    "    \n",
    "correl(df1.total_bill,df1.tip)"
   ]
  },
  {
   "cell_type": "code",
   "execution_count": 15,
   "id": "57f50c5d-f31e-46da-b800-3ec4854e400e",
   "metadata": {},
   "outputs": [
    {
     "data": {
      "image/png": "[encoded data removed]",
      "text/plain": [
       "<Figure size 800x600 with 1 Axes>"
      ]
     },
     "metadata": {},
     "output_type": "display_data"
    }
   ],
   "source": [
    "\"\"\" (v) Write a script to visualize the correlation between two specific columns in a Pandas DataFrame using scatter plots.\"\"\"\n",
    "\n",
    "plt.figure(figsize=(8, 6))\n",
    "plt.scatter(df1.total_bill, df1.tip, color='blue', label=f'{df1.total_bill} vs {df1.tip}')\n",
    "\n",
    "# Add title and labels\n",
    "plt.title(\"Scatter Plot of total_bill vs tip\")\n",
    "plt.xlabel(\"total_bill\")\n",
    "plt.ylabel(\"tip\")\n",
    "\n",
    "\n",
    "# Show plot\n",
    "plt.grid()\n",
    "plt.show()"
   ]
  },
  {
   "cell_type": "code",
   "execution_count": 36,
   "id": "ce2ae8ed-73ac-4a37-a99a-506d9285b323",
   "metadata": {},
   "outputs": [
    {
     "data": {
      "image/png": "[encoded data removed]",
      "text/plain": [
       "<Figure size 640x480 with 1 Axes>"
      ]
     },
     "metadata": {},
     "output_type": "display_data"
    }
   ],
   "source": [
    "\"\"\"Q8. Write a Python function to calculate the probability density function (PDF) of a continuous random variable for a given normal distribution.\"\"\"\n",
    "\n",
    "def nor_dist(mean,std,total):\n",
    "    var = np.random.normal(mean,std,total)\n",
    "    sns.histplot(x= var, bins= 10, kde = True)\n",
    "    \n",
    "nor_dist(10,20,200)"
   ]
  },
  {
   "cell_type": "code",
   "execution_count": 32,
   "id": "ddb678be-f458-40cc-9608-de74060f4b3b",
   "metadata": {},
   "outputs": [
    {
     "data": {
      "image/png": "[encoded data removed]",
      "text/plain": [
       "<Figure size 800x600 with 1 Axes>"
      ]
     },
     "metadata": {},
     "output_type": "display_data"
    }
   ],
   "source": [
    "\"\"\"Q9. Create a program to calculate the cumulative distribution function (CDF) of exponential distribution.\"\"\"\n",
    "\n",
    "def exp_dist(lam,x):\n",
    "    return 1 - np.exp(-lam * x)\n",
    "\n",
    "# Example usage\n",
    "lam = 0.5  # Rate parameter (lambda)\n",
    "x_values = np.linspace(0, 10, 100)\n",
    "\n",
    "# Calculate CDF values\n",
    "cdf_values = exp_dist(lam, x_values)\n",
    "\n",
    "# Plot the CDF\n",
    "plt.figure(figsize=(8, 6))\n",
    "plt.plot(x_values, cdf_values, label=f'Exponential CDF (λ={lam})')\n",
    "plt.title('Exponential Distribution CDF')\n",
    "plt.xlabel('x')\n",
    "plt.ylabel('CDF')\n",
    "plt.grid(True)\n",
    "plt.legend()\n",
    "plt.show()"
   ]
  },
  {
   "cell_type": "code",
   "execution_count": 5,
   "id": "21a37b83-e79a-442f-9ed8-8df363bfe52e",
   "metadata": {},
   "outputs": [
    {
     "data": {
      "text/plain": [
       "0.06072687934595285"
      ]
     },
     "execution_count": 5,
     "metadata": {},
     "output_type": "execute_result"
    }
   ],
   "source": [
    "\"\"\"Q10.  Write a Python function to calculate the probability mass function (PMF) of Poisson distribution.\"\"\"\n",
    "\n",
    "def poisson_pmf(k, lambda_):\n",
    "    if k < 0 or not isinstance(k, int):\n",
    "        raise ValueError(\"k must be a non-negative integer.\")\n",
    "    if lambda_ <= 0:\n",
    "        raise ValueError(\"lambda must be a positive value.\")\n",
    "    \n",
    "    pmf = (lambda_ ** k) * math.exp(-lambda_) / math.factorial(k)\n",
    "    return pmf\n",
    "\n",
    "poisson_pmf(5,9)"
   ]
  },
  {
   "cell_type": "code",
   "execution_count": 7,
   "id": "39341563-5bca-4c48-9443-af3dde840b24",
   "metadata": {},
   "outputs": [
    {
     "name": "stdout",
     "output_type": "stream",
     "text": [
      "Z-statistic: 1.8831\n",
      "P-value: 0.0298\n"
     ]
    }
   ],
   "source": [
    "\"\"\" Q11. A company wants to test if a new website layout leads to a higher conversion rate (percentage of visitors who make a purchase). \n",
    "They collect data from the old and new layouts to compare. To generate the data use the following command:\n",
    "# 50 purchases out of 1000 visitors\n",
    "old_layout = np.array([1] * 50 + [0] * 950)\n",
    "# 70 purchases out of 1000 visitors  \n",
    "new_layout = np.array([1] * 70 + [0] * 930)\n",
    "Apply z-test to find which layout is successful.\"\"\"\n",
    "\n",
    "# 50 purchases out of 1000 visitors\n",
    "old_layout = np.array([1] * 50 + [0] * 950)\n",
    "# 70 purchases out of 1000 visitors  \n",
    "new_layout = np.array([1] * 70 + [0] * 930)\n",
    "\n",
    "from statsmodels.stats.proportion import proportions_ztest\n",
    "\n",
    "# Counts of successes and observations\n",
    "old_success = np.sum(old_layout)  # Number of purchases in old layout\n",
    "old_total = len(old_layout)       # Total visitors for old layout\n",
    "\n",
    "new_success = np.sum(new_layout)  # Number of purchases in new layout\n",
    "new_total = len(new_layout)       # Total visitors for new layout\n",
    "\n",
    "counts = np.array([new_success, old_success])\n",
    "nobs = np.array([new_total, old_total])\n",
    "\n",
    "# Perform the z-test\n",
    "stat, p_value = proportions_ztest(counts, nobs, alternative='larger')\n",
    "\n",
    "print(f\"Z-statistic: {stat:.4f}\")\n",
    "print(f\"P-value: {p_value:.4f}\")"
   ]
  },
  {
   "cell_type": "code",
   "execution_count": 8,
   "id": "63c2090c-f50d-4a3f-be46-5d15bc021ea5",
   "metadata": {},
   "outputs": [
    {
     "name": "stdout",
     "output_type": "stream",
     "text": [
      "Mean of differences: 3.8000\n",
      "Z-statistic: 4.5932\n",
      "P-value: 0.0000\n"
     ]
    }
   ],
   "source": [
    "\"\"\"Q12.  A tutoring service claims that its program improves students' exam scores. A sample of students who participated in the program was taken,\n",
    "and their scores before and after the program were recorded. Use the below code to generate samples of respective arrays of marks:\n",
    "before_program = np.array([75, 80, 85, 70, 90, 78, 92, 88, 82, 87])\n",
    "after_program = np.array([80, 85, 90, 80, 92, 80, 95, 90, 85, 88])\n",
    "\n",
    "Use z-test to find if the claims made by tutor are true or false.\"\"\"\n",
    "\n",
    "before_program = np.array([75, 80, 85, 70, 90, 78, 92, 88, 82, 87])\n",
    "after_program = np.array([80, 85, 90, 80, 92, 80, 95, 90, 85, 88])\n",
    "\n",
    "from scipy import stats\n",
    "\n",
    "# Calculate the differences\n",
    "differences = after_program - before_program\n",
    "\n",
    "# Calculate the mean and standard deviation of the differences\n",
    "mean_diff = np.mean(differences)\n",
    "std_diff = np.std(differences, ddof=1)  # ddof=1 gives the sample standard deviation\n",
    "n = len(differences)\n",
    "\n",
    "# Calculate the Z-statistic\n",
    "z_stat = mean_diff / (std_diff / np.sqrt(n))\n",
    "\n",
    "# Calculate the p-value for a one-tailed test\n",
    "p_value = 1 - stats.norm.cdf(z_stat)\n",
    "\n",
    "print(f\"Mean of differences: {mean_diff:.4f}\")\n",
    "print(f\"Z-statistic: {z_stat:.4f}\")\n",
    "print(f\"P-value: {p_value:.4f}\")"
   ]
  },
  {
   "cell_type": "code",
   "execution_count": 9,
   "id": "d4698eb1-cdae-4462-91a2-d1b3853e9397",
   "metadata": {},
   "outputs": [
    {
     "name": "stdout",
     "output_type": "stream",
     "text": [
      "Mean of differences: 10.1000\n",
      "Z-statistic: 10.0499\n",
      "P-value: 0.0000\n",
      "Conclusion: The drug reduces blood pressure.\n"
     ]
    }
   ],
   "source": [
    "\"\"\"Q13. A pharmaceutical company wants to determine if a new drug is effective in reducing blood pressure. They conduct a study and record blood pressure \n",
    "measurements before and after administering the drug. Use the below code to generate samples of respective arrays of blood pressure:\n",
    " before_drug = np.array([145, 150, 140, 135, 155, 160, 152, 148, 130, 138])\n",
    " after_drug = np.array([130, 140, 132, 128, 145, 148, 138, 136, 125, 130])\n",
    "\n",
    " Implement z-test to find if the drug really works or not.\"\"\"\n",
    "\n",
    "# Blood pressure before and after taking the drug\n",
    "before_drug = np.array([145, 150, 140, 135, 155, 160, 152, 148, 130, 138])\n",
    "after_drug = np.array([130, 140, 132, 128, 145, 148, 138, 136, 125, 130])\n",
    "\n",
    "# Calculate the differences\n",
    "differences = before_drug - after_drug\n",
    "\n",
    "# Calculate the mean and standard deviation of the differences\n",
    "mean_diff = np.mean(differences)\n",
    "std_diff = np.std(differences, ddof=1)  # Sample standard deviation\n",
    "n = len(differences)\n",
    "\n",
    "# Calculate the Z-statistic\n",
    "z_stat = mean_diff / (std_diff / np.sqrt(n))\n",
    "\n",
    "# Calculate the p-value for a one-tailed test (testing if drug reduces blood pressure)\n",
    "p_value = 1 - stats.norm.cdf(z_stat)\n",
    "\n",
    "print(f\"Mean of differences: {mean_diff:.4f}\")\n",
    "print(f\"Z-statistic: {z_stat:.4f}\")\n",
    "print(f\"P-value: {p_value:.4f}\")\n",
    "\n",
    "# Interpretation\n",
    "if p_value < 0.05:\n",
    "    print(\"Conclusion: The drug reduces blood pressure.\")\n",
    "else:\n",
    "    print(\"Conclusion: The drug does not significantly reduce blood pressure.\")"
   ]
  },
  {
   "cell_type": "code",
   "execution_count": 10,
   "id": "4bc899f5-4cc6-4b89-93f4-daf9041b2f4f",
   "metadata": {},
   "outputs": [
    {
     "name": "stdout",
     "output_type": "stream",
     "text": [
      "Mean response time: 4.5700 minutes\n",
      "Z-statistic: -3.1845\n",
      "P-value: 0.0007\n",
      "Conclusion: The claim that the average response time is less than 5 minutes is supported.\n"
     ]
    }
   ],
   "source": [
    "\"\"\"Q14.  A customer service department claims that their average response time is less than 5 minutes. A sample of recent customer interactions was taken,\n",
    "and the response times were recorded. Implement the below code to generate the array of response time:\n",
    "response_times = np.array([4.3, 3.8, 5.1, 4.9, 4.7, 4.2, 5.2, 4.5, 4.6, 4.4])\n",
    "Implement z-test to find the claims made by customer service department are true or false.\"\"\"\n",
    "\n",
    "# Generate the array of response times\n",
    "response_times = np.array([4.3, 3.8, 5.1, 4.9, 4.7, 4.2, 5.2, 4.5, 4.6, 4.4])\n",
    "\n",
    "# Hypothesized population mean\n",
    "mu_0 = 5\n",
    "\n",
    "# Sample mean and standard deviation\n",
    "mean_response = np.mean(response_times)\n",
    "std_response = np.std(response_times, ddof=1)  # Sample standard deviation\n",
    "n = len(response_times)\n",
    "\n",
    "# Calculate the Z-statistic\n",
    "z_stat = (mean_response - mu_0) / (std_response / np.sqrt(n))\n",
    "\n",
    "# Calculate the p-value for a one-tailed test (claim: response time < 5)\n",
    "p_value = stats.norm.cdf(z_stat)\n",
    "\n",
    "print(f\"Mean response time: {mean_response:.4f} minutes\")\n",
    "print(f\"Z-statistic: {z_stat:.4f}\")\n",
    "print(f\"P-value: {p_value:.4f}\")\n",
    "\n",
    "# Interpretation\n",
    "if p_value < 0.05:\n",
    "    print(\"Conclusion: The claim that the average response time is less than 5 minutes is supported.\")\n",
    "else:\n",
    "    print(\"Conclusion: The claim that the average response time is less than 5 minutes is not supported.\")"
   ]
  },
  {
   "cell_type": "code",
   "execution_count": 11,
   "id": "ce5a00bc-4a68-46d4-a9ce-23d121465e03",
   "metadata": {},
   "outputs": [
    {
     "name": "stdout",
     "output_type": "stream",
     "text": [
      "T-statistic: -7.2981\n",
      "Degrees of Freedom: 18\n",
      "P-value: 0.0000\n",
      "Conclusion: There is a significant difference between the click-through rates of the two layouts.\n"
     ]
    }
   ],
   "source": [
    "\"\"\"Q15. A company is testing two different website layouts to see which one leads to higher click-through rates. Write a Python function to perform \n",
    "an A/B test analysis, including calculating the t-statistic, degrees of freedom, and p-value.\n",
    " Use the following data:\n",
    " layout_a_clicks = [28, 32, 33, 29, 31, 34, 30, 35, 36, 37]\n",
    " layout_b_clicks = [40, 41, 38, 42, 39, 44, 43, 41, 45, 47]\"\"\"\n",
    "\n",
    "def ab_test_analysis(layout_a, layout_b):\n",
    "    # Convert lists to numpy arrays\n",
    "    layout_a = np.array(layout_a)\n",
    "    layout_b = np.array(layout_b)\n",
    "    \n",
    "    # Calculate means and standard deviations\n",
    "    mean_a = np.mean(layout_a)\n",
    "    mean_b = np.mean(layout_b)\n",
    "    std_a = np.std(layout_a, ddof=1)  # Sample standard deviation\n",
    "    std_b = np.std(layout_b, ddof=1)  # Sample standard deviation\n",
    "    n_a = len(layout_a)\n",
    "    n_b = len(layout_b)\n",
    "    \n",
    "    # Calculate the t-statistic\n",
    "    pooled_std = np.sqrt(((n_a - 1) * std_a**2 + (n_b - 1) * std_b**2) / (n_a + n_b - 2))\n",
    "    t_stat = (mean_a - mean_b) / (pooled_std * np.sqrt(1/n_a + 1/n_b))\n",
    "    \n",
    "    # Degrees of freedom\n",
    "    df = n_a + n_b - 2\n",
    "    \n",
    "    # Calculate the p-value for a two-tailed test\n",
    "    p_value = 2 * (1 - stats.t.cdf(np.abs(t_stat), df))\n",
    "    \n",
    "    return t_stat, df, p_value\n",
    "\n",
    "# Data\n",
    "layout_a_clicks = [28, 32, 33, 29, 31, 34, 30, 35, 36, 37]\n",
    "layout_b_clicks = [40, 41, 38, 42, 39, 44, 43, 41, 45, 47]\n",
    "\n",
    "# Perform A/B test analysis\n",
    "t_stat, df, p_value = ab_test_analysis(layout_a_clicks, layout_b_clicks)\n",
    "\n",
    "print(f\"T-statistic: {t_stat:.4f}\")\n",
    "print(f\"Degrees of Freedom: {df}\")\n",
    "print(f\"P-value: {p_value:.4f}\")\n",
    "\n",
    "# Interpretation\n",
    "alpha = 0.05\n",
    "if p_value < alpha:\n",
    "    print(\"Conclusion: There is a significant difference between the click-through rates of the two layouts.\")\n",
    "else:\n",
    "    print(\"Conclusion: There is no significant difference between the click-through rates of the two layouts.\")\n"
   ]
  },
  {
   "cell_type": "code",
   "execution_count": 12,
   "id": "25627a87-4e26-40ba-b47f-17f0884cfa53",
   "metadata": {},
   "outputs": [
    {
     "name": "stdout",
     "output_type": "stream",
     "text": [
      "T-statistic: 4.1405\n",
      "Degrees of Freedom: 18\n",
      "P-value: 0.0006\n",
      "Conclusion: There is a significant difference between the cholesterol levels of the two drugs.\n"
     ]
    }
   ],
   "source": [
    "\"\"\"Q16.A pharmaceutical company wants to determine if a new drug is more effective than an existing drug in reducing cholesterol levels. Create a program to \n",
    "analyze the clinical trial data and calculate the tstatistic and p-value for the treatment effect. Use the following data of cholestrol level:\n",
    " existing_drug_levels = [180, 182, 175, 185, 178, 176, 172, 184, 179, 183]\n",
    " new_drug_levels = [170, 172, 165, 168, 175, 173, 170, 178, 172, 176]\"\"\"\n",
    "\n",
    "def t_test_for_treatment_effect(existing_drug, new_drug):\n",
    "    # Convert lists to numpy arrays\n",
    "    existing_drug = np.array(existing_drug)\n",
    "    new_drug = np.array(new_drug)\n",
    "    \n",
    "    # Calculate means and standard deviations\n",
    "    mean_existing = np.mean(existing_drug)\n",
    "    mean_new = np.mean(new_drug)\n",
    "    std_existing = np.std(existing_drug, ddof=1)  # Sample standard deviation\n",
    "    std_new = np.std(new_drug, ddof=1)  # Sample standard deviation\n",
    "    n_existing = len(existing_drug)\n",
    "    n_new = len(new_drug)\n",
    "    \n",
    "    # Calculate the t-statistic\n",
    "    pooled_std = np.sqrt(((n_existing - 1) * std_existing**2 + (n_new - 1) * std_new**2) / (n_existing + n_new - 2))\n",
    "    t_stat = (mean_existing - mean_new) / (pooled_std * np.sqrt(1/n_existing + 1/n_new))\n",
    "    \n",
    "    # Degrees of freedom\n",
    "    df = n_existing + n_new - 2\n",
    "    \n",
    "    # Calculate the p-value for a two-tailed test\n",
    "    p_value = 2 * (1 - stats.t.cdf(np.abs(t_stat), df))\n",
    "    \n",
    "    return t_stat, df, p_value\n",
    "\n",
    "# Data\n",
    "existing_drug_levels = [180, 182, 175, 185, 178, 176, 172, 184, 179, 183]\n",
    "new_drug_levels = [170, 172, 165, 168, 175, 173, 170, 178, 172, 176]\n",
    "\n",
    "# Perform t-test analysis\n",
    "t_stat, df, p_value = t_test_for_treatment_effect(existing_drug_levels, new_drug_levels)\n",
    "\n",
    "print(f\"T-statistic: {t_stat:.4f}\")\n",
    "print(f\"Degrees of Freedom: {df}\")\n",
    "print(f\"P-value: {p_value:.4f}\")\n",
    "\n",
    "# Interpretation\n",
    "alpha = 0.05\n",
    "if p_value < alpha:\n",
    "    print(\"Conclusion: There is a significant difference between the cholesterol levels of the two drugs.\")\n",
    "else:\n",
    "    print(\"Conclusion: There is no significant difference between the cholesterol levels of the two drugs.\")\n"
   ]
  },
  {
   "cell_type": "code",
   "execution_count": 13,
   "id": "db8bf3de-e841-4a6b-8176-705b9eb563c4",
   "metadata": {},
   "outputs": [
    {
     "name": "stdout",
     "output_type": "stream",
     "text": [
      "T-statistic: 4.4284\n",
      "Degrees of Freedom: 9\n",
      "P-value: 0.0017\n",
      "Conclusion: The intervention had a significant impact on math scores.\n"
     ]
    }
   ],
   "source": [
    "\"\"\"Q17. A school district introduces an educational intervention program to improve math scores. Write a Python function to analyze pre- and post-intervention test scores, \n",
    "calculating the t-statistic and p-value to determine if the intervention had a significant impact.Use the following data of test score:\n",
    " pre_intervention_scores = [80, 85, 90, 75, 88, 82, 92, 78, 85, 87]\n",
    " post_intervention_scores = [90, 92, 88, 92, 95, 91, 96, 93, 89, 93]\"\"\"\n",
    "\n",
    "def paired_t_test(pre_scores, post_scores):\n",
    "    # Convert lists to numpy arrays\n",
    "    pre_scores = np.array(pre_scores)\n",
    "    post_scores = np.array(post_scores)\n",
    "    \n",
    "    # Calculate the differences\n",
    "    differences = post_scores - pre_scores\n",
    "    \n",
    "    # Calculate mean and standard deviation of the differences\n",
    "    mean_diff = np.mean(differences)\n",
    "    std_diff = np.std(differences, ddof=1)  # Sample standard deviation\n",
    "    n = len(differences)\n",
    "    \n",
    "    # Calculate the t-statistic\n",
    "    t_stat = mean_diff / (std_diff / np.sqrt(n))\n",
    "    \n",
    "    # Degrees of freedom\n",
    "    df = n - 1\n",
    "    \n",
    "    # Calculate the p-value for a two-tailed test\n",
    "    p_value = 2 * (1 - stats.t.cdf(np.abs(t_stat), df))\n",
    "    \n",
    "    return t_stat, df, p_value\n",
    "\n",
    "# Data\n",
    "pre_intervention_scores = [80, 85, 90, 75, 88, 82, 92, 78, 85, 87]\n",
    "post_intervention_scores = [90, 92, 88, 92, 95, 91, 96, 93, 89, 93]\n",
    "\n",
    "# Perform paired t-test analysis\n",
    "t_stat, df, p_value = paired_t_test(pre_intervention_scores, post_intervention_scores)\n",
    "\n",
    "print(f\"T-statistic: {t_stat:.4f}\")\n",
    "print(f\"Degrees of Freedom: {df}\")\n",
    "print(f\"P-value: {p_value:.4f}\")\n",
    "\n",
    "# Interpretation\n",
    "alpha = 0.05\n",
    "if p_value < alpha:\n",
    "    print(\"Conclusion: The intervention had a significant impact on math scores.\")\n",
    "else:\n",
    "    print(\"Conclusion: The intervention did not have a significant impact on math scores.\")\n"
   ]
  },
  {
   "cell_type": "code",
   "execution_count": 14,
   "id": "1ef8f4c4-29b9-43f2-9cf2-c137154f8f76",
   "metadata": {},
   "outputs": [
    {
     "name": "stdout",
     "output_type": "stream",
     "text": [
      "T-statistic: 4.4284\n",
      "Degrees of Freedom: 9\n",
      "P-value: 0.0017\n",
      "Conclusion: The intervention had a significant impact on math scores.\n"
     ]
    }
   ],
   "source": [
    "\"\"\"Q18.  An HR department wants to investigate if there's a gender-based salary gap within the company. Develop a program to analyze salary data, calculate the t-statistic,\n",
    "and determine if there's a statistically significant difference between the average salaries of male and female employees.Use the below code to generate synthetic data:\n",
    " # Generate synthetic salary data for male and female employees\n",
    " np.random.seed(0)  # For reproducibility\n",
    " male_salaries = np.random.normal(loc=50000, scale=10000, size=20)\n",
    " female_salaries = np.random.normal(loc=55000, scale=9000, size=20)\"\"\"\n",
    "\n",
    "def paired_t_test(pre_scores, post_scores):\n",
    "    # Convert lists to numpy arrays\n",
    "    pre_scores = np.array(pre_scores)\n",
    "    post_scores = np.array(post_scores)\n",
    "    \n",
    "    # Calculate the differences\n",
    "    differences = post_scores - pre_scores\n",
    "    \n",
    "    # Calculate mean and standard deviation of the differences\n",
    "    mean_diff = np.mean(differences)\n",
    "    std_diff = np.std(differences, ddof=1)  # Sample standard deviation\n",
    "    n = len(differences)\n",
    "    \n",
    "    # Calculate the t-statistic\n",
    "    t_stat = mean_diff / (std_diff / np.sqrt(n))\n",
    "    \n",
    "    # Degrees of freedom\n",
    "    df = n - 1\n",
    "    \n",
    "    # Calculate the p-value for a two-tailed test\n",
    "    p_value = 2 * (1 - stats.t.cdf(np.abs(t_stat), df))\n",
    "    \n",
    "    return t_stat, df, p_value\n",
    "\n",
    "# Data\n",
    "pre_intervention_scores = [80, 85, 90, 75, 88, 82, 92, 78, 85, 87]\n",
    "post_intervention_scores = [90, 92, 88, 92, 95, 91, 96, 93, 89, 93]\n",
    "\n",
    "# Perform paired t-test analysis\n",
    "t_stat, df, p_value = paired_t_test(pre_intervention_scores, post_intervention_scores)\n",
    "\n",
    "print(f\"T-statistic: {t_stat:.4f}\")\n",
    "print(f\"Degrees of Freedom: {df}\")\n",
    "print(f\"P-value: {p_value:.4f}\")\n",
    "\n",
    "# Interpretation\n",
    "alpha = 0.05\n",
    "if p_value < alpha:\n",
    "    print(\"Conclusion: The intervention had a significant impact on math scores.\")\n",
    "else:\n",
    "    print(\"Conclusion: The intervention did not have a significant impact on math scores.\")"
   ]
  },
  {
   "cell_type": "code",
   "execution_count": 15,
   "id": "7457400c-d539-447f-a72f-b4a41eab2ca0",
   "metadata": {},
   "outputs": [
    {
     "name": "stdout",
     "output_type": "stream",
     "text": [
      "T-statistic: 11.3258\n",
      "Degrees of Freedom: 48\n",
      "P-value: 0.0000\n",
      "Conclusion: There is a significant difference in quality between the two versions.\n"
     ]
    }
   ],
   "source": [
    "\"\"\"Q19. A manufacturer produces two different versions of a product and wants to compare their quality scores. Create a Python function to analyze quality assessment data, \n",
    "calculate the t-statistic, and decide whether there's a significant difference in quality between the two versions. Use the following data:\n",
    "\n",
    " version1_scores = [85, 88, 82, 89, 87, 84, 90, 88, 85, 86, 91, 83, 87, 84, 89, 86, 84, 88, 85, 86, 89, 90, 87, 88, 85]\n",
    " version2_scores = [80, 78, 83, 81, 79, 82, 76, 80, 78, 81, 77, 82, 80, 79, 82, 79, 80, 81, 79, 82, 79, 78, 80, 81, 82]\"\"\"\n",
    "\n",
    "def compare_quality_scores(scores1, scores2):\n",
    "    # Convert lists to numpy arrays\n",
    "    scores1 = np.array(scores1)\n",
    "    scores2 = np.array(scores2)\n",
    "    \n",
    "    # Calculate means and standard deviations\n",
    "    mean1 = np.mean(scores1)\n",
    "    mean2 = np.mean(scores2)\n",
    "    std1 = np.std(scores1, ddof=1)  # Sample standard deviation\n",
    "    std2 = np.std(scores2, ddof=1)  # Sample standard deviation\n",
    "    n1 = len(scores1)\n",
    "    n2 = len(scores2)\n",
    "    \n",
    "    # Calculate the t-statistic\n",
    "    pooled_std = np.sqrt(((n1 - 1) * std1**2 + (n2 - 1) * std2**2) / (n1 + n2 - 2))\n",
    "    t_stat = (mean1 - mean2) / (pooled_std * np.sqrt(1/n1 + 1/n2))\n",
    "    \n",
    "    # Degrees of freedom\n",
    "    df = n1 + n2 - 2\n",
    "    \n",
    "    # Calculate the p-value for a two-tailed test\n",
    "    p_value = 2 * (1 - stats.t.cdf(np.abs(t_stat), df))\n",
    "    \n",
    "    return t_stat, df, p_value\n",
    "\n",
    "# Data\n",
    "version1_scores = [85, 88, 82, 89, 87, 84, 90, 88, 85, 86, 91, 83, 87, 84, 89, 86, 84, 88, 85, 86, 89, 90, 87, 88, 85]\n",
    "version2_scores = [80, 78, 83, 81, 79, 82, 76, 80, 78, 81, 77, 82, 80, 79, 82, 79, 80, 81, 79, 82, 79, 78, 80, 81, 82]\n",
    "\n",
    "# Perform t-test analysis\n",
    "t_stat, df, p_value = compare_quality_scores(version1_scores, version2_scores)\n",
    "\n",
    "print(f\"T-statistic: {t_stat:.4f}\")\n",
    "print(f\"Degrees of Freedom: {df}\")\n",
    "print(f\"P-value: {p_value:.4f}\")\n",
    "\n",
    "# Interpretation\n",
    "alpha = 0.05\n",
    "if p_value < alpha:\n",
    "    print(\"Conclusion: There is a significant difference in quality between the two versions.\")\n",
    "else:\n",
    "    print(\"Conclusion: There is no significant difference in quality between the two versions.\")"
   ]
  },
  {
   "cell_type": "code",
   "execution_count": 16,
   "id": "307ac070-08a9-4edb-9047-0658da80882a",
   "metadata": {},
   "outputs": [
    {
     "name": "stdout",
     "output_type": "stream",
     "text": [
      "T-statistic: 5.4801\n",
      "Degrees of Freedom: 60\n",
      "P-value: 0.0000\n",
      "Conclusion: There is a significant difference in customer satisfaction between the two branches.\n"
     ]
    }
   ],
   "source": [
    "\"\"\"Q20. A restaurant chain collects customer satisfaction scores for two different branches. Write a program to analyze the scores, calculate the t-statistic, \n",
    "and determine if there's a statistically significant difference in customer satisfaction between the branches. Use the below data of scores:\n",
    " branch_a_scores = [4, 5, 3, 4, 5, 4, 5, 3, 4, 4, 5, 4, 4, 3, 4, 5, 5, 4, 3, 4, 5, 4, 3, 5, 4, 4, 5, 3, 4, 5, 4]\n",
    " branch_b_scores = [3, 4, 2, 3, 4, 3, 4, 2, 3, 3, 4, 3, 3, 2, 3, 4, 4, 3, 2, 3, 4, 3, 2, 4, 3, 3, 4, 2, 3, 4, 3]\"\"\"\n",
    "\n",
    "def compare_branch_scores(scores1, scores2):\n",
    "    # Convert lists to numpy arrays\n",
    "    scores1 = np.array(scores1)\n",
    "    scores2 = np.array(scores2)\n",
    "    \n",
    "    # Calculate means and standard deviations\n",
    "    mean1 = np.mean(scores1)\n",
    "    mean2 = np.mean(scores2)\n",
    "    std1 = np.std(scores1, ddof=1)  # Sample standard deviation\n",
    "    std2 = np.std(scores2, ddof=1)  # Sample standard deviation\n",
    "    n1 = len(scores1)\n",
    "    n2 = len(scores2)\n",
    "    \n",
    "    # Calculate the t-statistic\n",
    "    pooled_std = np.sqrt(((n1 - 1) * std1**2 + (n2 - 1) * std2**2) / (n1 + n2 - 2))\n",
    "    t_stat = (mean1 - mean2) / (pooled_std * np.sqrt(1/n1 + 1/n2))\n",
    "    \n",
    "    # Degrees of freedom\n",
    "    df = n1 + n2 - 2\n",
    "    \n",
    "    # Calculate the p-value for a two-tailed test\n",
    "    p_value = 2 * (1 - stats.t.cdf(np.abs(t_stat), df))\n",
    "    \n",
    "    return t_stat, df, p_value\n",
    "\n",
    "# Data\n",
    "branch_a_scores = [4, 5, 3, 4, 5, 4, 5, 3, 4, 4, 5, 4, 4, 3, 4, 5, 5, 4, 3, 4, 5, 4, 3, 5, 4, 4, 5, 3, 4, 5, 4]\n",
    "branch_b_scores = [3, 4, 2, 3, 4, 3, 4, 2, 3, 3, 4, 3, 3, 2, 3, 4, 4, 3, 2, 3, 4, 3, 2, 4, 3, 3, 4, 2, 3, 4, 3]\n",
    "\n",
    "# Perform t-test analysis\n",
    "t_stat, df, p_value = compare_branch_scores(branch_a_scores, branch_b_scores)\n",
    "\n",
    "print(f\"T-statistic: {t_stat:.4f}\")\n",
    "print(f\"Degrees of Freedom: {df}\")\n",
    "print(f\"P-value: {p_value:.4f}\")\n",
    "\n",
    "# Interpretation\n",
    "alpha = 0.05\n",
    "if p_value < alpha:\n",
    "    print(\"Conclusion: There is a significant difference in customer satisfaction between the two branches.\")\n",
    "else:\n",
    "    print(\"Conclusion: There is no significant difference in customer satisfaction between the two branches.\")"
   ]
  },
  {
   "cell_type": "code",
   "execution_count": 19,
   "id": "122e8a50-8392-4f03-9c63-ab4ff8f06614",
   "metadata": {},
   "outputs": [
    {
     "name": "stdout",
     "output_type": "stream",
     "text": [
      "Contingency Table:\n",
      "Voter Preference  Candidate A  Candidate B\n",
      "Age Group                                 \n",
      "18-30                       2            6\n",
      "31-50                       4            4\n",
      "51+                         5            9\n",
      "\n",
      "Chi-Square Statistic: 1.0868\n",
      "P-value: 0.5808\n",
      "Degrees of Freedom: 2\n",
      "Expected Frequencies Table:\n",
      "[[2.93333333 5.06666667]\n",
      " [2.93333333 5.06666667]\n",
      " [5.13333333 8.86666667]]\n",
      "\n",
      "Conclusion: There is no significant association between age groups and voter preferences.\n"
     ]
    }
   ],
   "source": [
    "\"\"\"Q21. A political analyst wants to determine if there is a significant association between age groups and voter preferences (Candidate A or Candidate B). \n",
    "They collect data from a sample of 500 voters and classify them into different age groups and candidate preferences. Perform a Chi-Square test to determine if \n",
    "there is a significant association between age groups and voter preferences. Use the below code to generate data:\n",
    " np.random.seed(0)\n",
    " age_groups = np.random.choice(['18-30', '31-50', '51+', '51+'], size=30)\n",
    " voter_preferences = np.random.choice(['Candidate A', 'Candidate B'], size=30)\"\"\"\n",
    "\n",
    "# Generate data\n",
    "np.random.seed(0)\n",
    "age_groups = np.random.choice(['18-30', '31-50', '51+', '51+'], size=30)\n",
    "voter_preferences = np.random.choice(['Candidate A', 'Candidate B'], size=30)\n",
    "\n",
    "# Create a DataFrame\n",
    "data = pd.DataFrame({'Age Group': age_groups, 'Voter Preference': voter_preferences})\n",
    "\n",
    "# Create a contingency table\n",
    "contingency_table = pd.crosstab(data['Age Group'], data['Voter Preference'])\n",
    "\n",
    "print(\"Contingency Table:\")\n",
    "print(contingency_table)\n",
    "\n",
    "# Perform Chi-Square test\n",
    "chi2_stat, p_value, dof, expected = stats.chi2_contingency(contingency_table)\n",
    "\n",
    "print(f\"\\nChi-Square Statistic: {chi2_stat:.4f}\")\n",
    "print(f\"P-value: {p_value:.4f}\")\n",
    "print(f\"Degrees of Freedom: {dof}\")\n",
    "print(\"Expected Frequencies Table:\")\n",
    "print(expected)\n",
    "\n",
    "# Interpretation\n",
    "alpha = 0.05\n",
    "if p_value < alpha:\n",
    "    print(\"\\nConclusion: There is a significant association between age groups and voter preferences.\")\n",
    "else:\n",
    "    print(\"\\nConclusion: There is no significant association between age groups and voter preferences.\")"
   ]
  },
  {
   "cell_type": "code",
   "execution_count": 20,
   "id": "c8a5ed4e-796f-4379-b33d-8a23b9d56001",
   "metadata": {},
   "outputs": [
    {
     "name": "stdout",
     "output_type": "stream",
     "text": [
      "Contingency Table:\n",
      "[[50 30 40 20]\n",
      " [30 40 30 50]\n",
      " [20 30 40 30]]\n",
      "\n",
      "Expected Frequencies Table:\n",
      "[[34.14634146 34.14634146 37.56097561 34.14634146]\n",
      " [36.58536585 36.58536585 40.24390244 36.58536585]\n",
      " [29.26829268 29.26829268 32.19512195 29.26829268]]\n",
      "\n",
      "Chi-Square Statistic: 27.7771\n",
      "P-value: 0.0001\n",
      "Degrees of Freedom: 6\n",
      "\n",
      "Conclusion: There is a significant relationship between product satisfaction levels and customer regions.\n"
     ]
    }
   ],
   "source": [
    "\"\"\"Q22.A company conducted a customer satisfaction survey to determine if there is a significant relationship between product satisfaction levels \n",
    "(Satisfied, Neutral, Dissatisfied) and the region where customers are located (East, West, North, South). The survey data is summarized in a contingency table. Conduct a Chi\n",
    "Square test to determine if there is a significant relationship between product satisfaction levels and customer regions.\n",
    "\n",
    " #Sample data: Product satisfaction levels (rows) vs. Customer regions (columns)\n",
    " data = np.array([[50, 30, 40, 20], [30, 40, 30, 50], [20, 30, 40, 30]])\"\"\"\n",
    "\n",
    "# Sample data: Product satisfaction levels (rows) vs. Customer regions (columns)\n",
    "data = np.array([[50, 30, 40, 20],  # Satisfaction: Satisfied\n",
    "                 [30, 40, 30, 50],  # Satisfaction: Neutral\n",
    "                 [20, 30, 40, 30]]) # Satisfaction: Dissatisfied\n",
    "\n",
    "# Perform Chi-Square test\n",
    "chi2_stat, p_value, dof, expected = stats.chi2_contingency(data)\n",
    "\n",
    "print(\"Contingency Table:\")\n",
    "print(data)\n",
    "print(\"\\nExpected Frequencies Table:\")\n",
    "print(expected)\n",
    "print(f\"\\nChi-Square Statistic: {chi2_stat:.4f}\")\n",
    "print(f\"P-value: {p_value:.4f}\")\n",
    "print(f\"Degrees of Freedom: {dof}\")\n",
    "\n",
    "# Interpretation\n",
    "alpha = 0.05\n",
    "if p_value < alpha:\n",
    "    print(\"\\nConclusion: There is a significant relationship between product satisfaction levels and customer regions.\")\n",
    "else:\n",
    "    print(\"\\nConclusion: There is no significant relationship between product satisfaction levels and customer regions.\")"
   ]
  },
  {
   "cell_type": "code",
   "execution_count": 21,
   "id": "a6580a40-1de3-4645-9f67-d54238467c5b",
   "metadata": {},
   "outputs": [
    {
     "name": "stdout",
     "output_type": "stream",
     "text": [
      "Contingency Table:\n",
      "[[50 30 20]\n",
      " [30 40 30]\n",
      " [20 30 40]]\n",
      "\n",
      "Expected Frequencies Table:\n",
      "[[34.48275862 34.48275862 31.03448276]\n",
      " [34.48275862 34.48275862 31.03448276]\n",
      " [31.03448276 31.03448276 27.93103448]]\n",
      "\n",
      "Chi-Square Statistic: 22.1617\n",
      "P-value: 0.0002\n",
      "Degrees of Freedom: 4\n",
      "\n",
      "Conclusion: There is a significant difference in job performance levels before and after the training.\n"
     ]
    }
   ],
   "source": [
    "\"\"\"Q23. A company implemented an employee training program to improve job performance (Effective, Neutral, Ineffective). After the training, \n",
    "they collected data from a sample of employees and classified them based on their job performance before and after the training. Perform a Chi-Square test to determine if there is a \n",
    "significant difference between job performance levels before and after the training.\n",
    " data = np.array([[50, 30, 20], [30, 40, 30], [20, 30, 40]])\"\"\"\n",
    "\n",
    "# Sample data: Job performance levels before and after training\n",
    "data = np.array([[50, 30, 20],  # Performance before training: Effective, Neutral, Ineffective\n",
    "                 [30, 40, 30],  # Performance after training: Effective, Neutral, Ineffective\n",
    "                 [20, 30, 40]]) # Performance after training: Effective, Neutral, Ineffective\n",
    "\n",
    "# Perform Chi-Square test\n",
    "chi2_stat, p_value, dof, expected = stats.chi2_contingency(data)\n",
    "\n",
    "print(\"Contingency Table:\")\n",
    "print(data)\n",
    "print(\"\\nExpected Frequencies Table:\")\n",
    "print(expected)\n",
    "print(f\"\\nChi-Square Statistic: {chi2_stat:.4f}\")\n",
    "print(f\"P-value: {p_value:.4f}\")\n",
    "print(f\"Degrees of Freedom: {dof}\")\n",
    "\n",
    "# Interpretation\n",
    "alpha = 0.05\n",
    "if p_value < alpha:\n",
    "    print(\"\\nConclusion: There is a significant difference in job performance levels before and after the training.\")\n",
    "else:\n",
    "    print(\"\\nConclusion: There is no significant difference in job performance levels before and after the training.\")"
   ]
  },
  {
   "cell_type": "code",
   "execution_count": 22,
   "id": "5a780f70-d481-4532-a335-a8a2737ae0c8",
   "metadata": {},
   "outputs": [
    {
     "name": "stdout",
     "output_type": "stream",
     "text": [
      "F-statistic: 27.0356\n",
      "P-value: 0.0000\n",
      "\n",
      "Conclusion: There is a significant difference in customer satisfaction scores among the three product versions.\n"
     ]
    }
   ],
   "source": [
    "\"\"\"Q24. A company produces three different versions of a product: Standard, Premium, and Deluxe. The company wants to determine if there is a significant \n",
    "difference in customer satisfaction scores among the three product versions. They conducted a survey and collected customer satisfaction scores for each \n",
    "version from a random sample of customers. Perform an ANOVA test to determine if there is a significant difference in customer satisfaction scores.\n",
    " # Sample data: Customer satisfaction scores for each product version\n",
    " standard_scores = [80, 85, 90, 78, 88, 82, 92, 78, 85, 87]\n",
    " premium_scores = [90, 92, 88, 92, 95, 91, 96, 93, 89, 93]\n",
    " deluxe_scores = [95, 98, 92, 97, 96, 94, 98, 97, 92, 99]\"\"\"\n",
    "\n",
    "# Sample data: Customer satisfaction scores for each product version\n",
    "standard_scores = [80, 85, 90, 78, 88, 82, 92, 78, 85, 87]\n",
    "premium_scores = [90, 92, 88, 92, 95, 91, 96, 93, 89, 93]\n",
    "deluxe_scores = [95, 98, 92, 97, 96, 94, 98, 97, 92, 99]\n",
    "\n",
    "# Perform one-way ANOVA test\n",
    "f_stat, p_value = stats.f_oneway(standard_scores, premium_scores, deluxe_scores)\n",
    "\n",
    "print(f\"F-statistic: {f_stat:.4f}\")\n",
    "print(f\"P-value: {p_value:.4f}\")\n",
    "\n",
    "# Interpretation\n",
    "alpha = 0.05\n",
    "if p_value < alpha:\n",
    "    print(\"\\nConclusion: There is a significant difference in customer satisfaction scores among the three product versions.\")\n",
    "else:\n",
    "    print(\"\\nConclusion: There is no significant difference in customer satisfaction scores among the three product versions.\")"
   ]
  }
 ],
 "metadata": {
  "kernelspec": {
   "display_name": "Python 3 (ipykernel)",
   "language": "python",
   "name": "python3"
  },
  "language_info": {
   "codemirror_mode": {
    "name": "ipython",
    "version": 3
   },
   "file_extension": ".py",
   "mimetype": "text/x-python",
   "name": "python",
   "nbconvert_exporter": "python",
   "pygments_lexer": "ipython3",
   "version": "3.10.8"
  }
 },
 "nbformat": 4,
 "nbformat_minor": 5
}
